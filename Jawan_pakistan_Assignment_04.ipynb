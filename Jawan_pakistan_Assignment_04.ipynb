{
 "cells": [
  {
   "cell_type": "markdown",
   "id": "e0aec475",
   "metadata": {},
   "source": [
    "1-Make a calculator using Python with addition , subtraction ,\n",
    "multiplication ,division and power."
   ]
  },
  {
   "cell_type": "code",
   "execution_count": 3,
   "id": "325be188",
   "metadata": {},
   "outputs": [],
   "source": [
    "def add(num1, num2):\n",
    "    return num1 + num2\n",
    "def subtract(num1, num2):\n",
    "    return num1 - num2\n",
    "def multiply(num1, num2):\n",
    "    return num1 * num2\n",
    "def divide(num1, num2):\n",
    "    return num1 / num2"
   ]
  },
  {
   "cell_type": "code",
   "execution_count": 4,
   "id": "9f23a12d",
   "metadata": {},
   "outputs": [
    {
     "name": "stdout",
     "output_type": "stream",
     "text": [
      "Select operations form 1, 2, 3, 4 :1\n",
      "Enter first number: 23\n",
      "Enter second number: 44\n",
      "23 + 44 = 67\n"
     ]
    }
   ],
   "source": [
    "select = int(input(\"Select operations form 1, 2, 3, 4 :\"))\n",
    "  \n",
    "number_1 = int(input(\"Enter first number: \"))\n",
    "number_2 = int(input(\"Enter second number: \"))\n",
    "  \n",
    "if select == 1:\n",
    "    print(number_1, \"+\", number_2, \"=\",\n",
    "                    add(number_1, number_2))\n",
    "  \n",
    "elif select == 2:\n",
    "    print(number_1, \"-\", number_2, \"=\",\n",
    "                    subtract(number_1, number_2))\n",
    "  \n",
    "elif select == 3:\n",
    "    print(number_1, \"*\", number_2, \"=\",\n",
    "                    multiply(number_1, number_2))\n",
    "  \n",
    "elif select == 4:\n",
    "    print(number_1, \"/\", number_2, \"=\",\n",
    "                    divide(number_1, number_2))\n",
    "else:\n",
    "    print(\"Invalid input\")"
   ]
  },
  {
   "cell_type": "markdown",
   "id": "d6362feb",
   "metadata": {},
   "source": [
    "2-Write a program to check if there is any numeric value in list using for\n",
    "loop."
   ]
  },
  {
   "cell_type": "code",
   "execution_count": 6,
   "id": "546751cf",
   "metadata": {},
   "outputs": [
    {
     "name": "stdout",
     "output_type": "stream",
     "text": [
      "Checking if 15 exists in list\n",
      "Yes, 15 exists in list\n"
     ]
    }
   ],
   "source": [
    "L_list = [10, 15, 20, 7, 46, 2808]\n",
    "\n",
    "print(\"Checking if 15 exists in list\")\n",
    "exist_count = L_list.count(15)\n",
    "if exist_count > 0:\n",
    "    print(\"Yes, 15 exists in list\")\n",
    "else:\n",
    "    print(\"No, 15 does not exists in list\")"
   ]
  },
  {
   "cell_type": "markdown",
   "id": "f57ac1bd",
   "metadata": {},
   "source": [
    "3. Write a Python script to add a key to a dictionary."
   ]
  },
  {
   "cell_type": "code",
   "execution_count": 9,
   "id": "f8fb2cfa",
   "metadata": {},
   "outputs": [
    {
     "name": "stdout",
     "output_type": "stream",
     "text": [
      "{1: 'Hello', 2: 'for Hello'}\n"
     ]
    }
   ],
   "source": [
    "class my_dictionary(dict):\n",
    "\n",
    "    def __init__(self):\n",
    "        self = dict()\n",
    "    def add(self, key, value):\n",
    "        self[key] = value\n",
    "dict_obj = my_dictionary()\n",
    "\n",
    "dict_obj.add(1, 'Hello')\n",
    "dict_obj.add(2, 'for Hello')\n",
    "print(dict_obj)"
   ]
  },
  {
   "cell_type": "markdown",
   "id": "7199f3b8",
   "metadata": {},
   "source": [
    "4. Write a Python program to sum all the numeric items in a dictionary."
   ]
  },
  {
   "cell_type": "code",
   "execution_count": 11,
   "id": "3d4dbbfe",
   "metadata": {},
   "outputs": [
    {
     "name": "stdout",
     "output_type": "stream",
     "text": [
      "Sum : 3900\n"
     ]
    }
   ],
   "source": [
    "def returnSum(myDict):\n",
    "    list = []\n",
    "    for i in myDict:\n",
    "        list.append(myDict[i])\n",
    "    final = sum(list)\n",
    "    return final\n",
    "dict = {'a': 600, 'b':900, 'c':2400}\n",
    "print(\"Sum :\", returnSum(dict))\n"
   ]
  },
  {
   "cell_type": "markdown",
   "id": "0b86b7a7",
   "metadata": {},
   "source": [
    "5. Write a program to identify duplicate values from list."
   ]
  },
  {
   "cell_type": "code",
   "execution_count": 15,
   "id": "c322139e",
   "metadata": {},
   "outputs": [
    {
     "name": "stdout",
     "output_type": "stream",
     "text": [
      "2 3 2 2 3 1 2 "
     ]
    }
   ],
   "source": [
    "l=[1,2,3,4,5,2,3,2,8,9,98,34,2,3,1,2]\n",
    "l1=[]\n",
    "for i in l:\n",
    "    if i not in l1:\n",
    "        l1.append(i)\n",
    "    else:\n",
    "        print(i,end=' ')"
   ]
  },
  {
   "cell_type": "markdown",
   "id": "f03c91f8",
   "metadata": {},
   "source": [
    "6. Write a Python script to check if a given key already exists in a dictionary"
   ]
  },
  {
   "cell_type": "code",
   "execution_count": 19,
   "id": "14156b07",
   "metadata": {},
   "outputs": [
    {
     "name": "stdout",
     "output_type": "stream",
     "text": [
      "_present,  _value = 200\n",
      "_present,  _value = 300\n"
     ]
    }
   ],
   "source": [
    "def checkKey(dict, key):\n",
    "    if key in dict.keys():\n",
    "        print(\"_present, \", end =\" \")\n",
    "        print(\"_value =\", dict[key])\n",
    "    else:\n",
    "        print(\"_not present\")\n",
    "dict = {'a': 100, 'b':200, 'c':300}\n",
    "\n",
    "key = 'b'\n",
    "checkKey(dict, key)\n",
    "\n",
    "key = 'c'\n",
    "checkKey(dict, key)\n"
   ]
  }
 ],
 "metadata": {
  "kernelspec": {
   "display_name": "Python 3",
   "language": "python",
   "name": "python3"
  },
  "language_info": {
   "codemirror_mode": {
    "name": "ipython",
    "version": 3
   },
   "file_extension": ".py",
   "mimetype": "text/x-python",
   "name": "python",
   "nbconvert_exporter": "python",
   "pygments_lexer": "ipython3",
   "version": "3.8.8"
  }
 },
 "nbformat": 4,
 "nbformat_minor": 5
}
